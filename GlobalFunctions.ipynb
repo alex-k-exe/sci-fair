{
 "cells": [
  {
   "cell_type": "markdown",
   "metadata": {},
   "source": [
    "## Imports"
   ]
  },
  {
   "cell_type": "code",
   "execution_count": 102,
   "metadata": {},
   "outputs": [],
   "source": [
    "import matplotlib.pyplot as plt\n",
    "import matplotlib.axes as ax\n",
    "\n",
    "import shapely.geometry as geom\n",
    "import shapely.affinity as aff\n",
    "\n",
    "import math\n",
    "\n",
    "import collections"
   ]
  },
  {
   "attachments": {},
   "cell_type": "markdown",
   "metadata": {},
   "source": [
    "# Global Functions"
   ]
  },
  {
   "cell_type": "markdown",
   "metadata": {},
   "source": [
    "## Plotting geometries"
   ]
  },
  {
   "cell_type": "code",
   "execution_count": 103,
   "metadata": {
    "tags": [
     "test"
    ]
   },
   "outputs": [],
   "source": [
    "def plotCoords(coords):\n",
    "    x,y = zip(*list(coords))\n",
    "    ax.plot(x,y)\n",
    "\n",
    "def plotPoints(points):\n",
    "    x,y = zip(*list(points))\n",
    "    ax.scatter(x, y)\n",
    "\n",
    "def plotPolys(polys):\n",
    "    for poly in polys:\n",
    "        if not getattr(poly, \"exterior\", None):\n",
    "            print(\"got line?\")\n",
    "\n",
    "        plotCoords(poly.exterior.coords)\n",
    "\n",
    "        for hole in poly.interiors:\n",
    "            plotCoords(hole.coords)"
   ]
  },
  {
   "cell_type": "markdown",
   "metadata": {},
   "source": [
    "## Generating a regular polygon"
   ]
  },
  {
   "cell_type": "code",
   "execution_count": 119,
   "metadata": {
    "tags": []
   },
   "outputs": [],
   "source": [
    "def makePoly(sides, radius):\n",
    "    line = geom.LineString([(0, 0), (0, radius)])\n",
    "    vertices = []\n",
    "\n",
    "    if sides % 2 == 0:\n",
    "        line = aff.rotate(line, -360 / sides)\n",
    "\n",
    "    for i in range(0, sides):\n",
    "        line = geom.LineString(recursiveRound([*line.coords], 4))\n",
    "        vertices.append(line.coords[1])\n",
    "        line = aff.rotate(line, -360 / sides, origin=(0, 0))\n",
    "    return geom.Polygon(vertices)"
   ]
  },
  {
   "cell_type": "markdown",
   "metadata": {},
   "source": [
    "## Recursively rounding every number in an iterable"
   ]
  },
  {
   "cell_type": "code",
   "execution_count": 105,
   "metadata": {},
   "outputs": [],
   "source": [
    "def recursiveRound(iter, digits):\n",
    "    if isinstance(iter, collections.Iterable) == False:\n",
    "        try: # if it is a number, round it\n",
    "            return round(iter, digits)\n",
    "        except:\n",
    "            return iter\n",
    "    else: # assign child objects (iter) to current object\n",
    "        for index, value in enumerate(iter):\n",
    "            recursed = recursiveRound(value, digits)\n",
    "            try: # when iter isn't a tuple\n",
    "                iter[index] = recursed\n",
    "            except(TypeError):\n",
    "                iterCopy = list(iter)\n",
    "                iterCopy[index] = recursed\n",
    "                iter = tuple(iterCopy)\n",
    "        return iter\n",
    "\n",
    "# print(recursiveRound([(0.292, 0.21722014), [(118.2194, 0.10282)]], 2))"
   ]
  },
  {
   "attachments": {},
   "cell_type": "markdown",
   "metadata": {},
   "source": [
    "# Testing"
   ]
  },
  {
   "cell_type": "code",
   "execution_count": 130,
   "metadata": {},
   "outputs": [],
   "source": [
    "a = makePoly(4, 2)\n",
    "b = makePoly(3, 2)\n",
    "\n",
    "b = aff.translate(b, yoff=abs(a.bounds[3]) + abs(b.bounds[1]))"
   ]
  },
  {
   "cell_type": "code",
   "execution_count": 131,
   "metadata": {},
   "outputs": [
    {
     "data": {
      "image/png": "[encoded data removed]",
      "text/plain": [
       "<Figure size 640x480 with 1 Axes>"
      ]
     },
     "metadata": {},
     "output_type": "display_data"
    }
   ],
   "source": [
    "fig, ax = plt.subplots(1, 1)\n",
    "plotPolys([a, b])\n",
    "ax.axes.set_aspect(\"equal\")"
   ]
  },
  {
   "cell_type": "code",
   "execution_count": 132,
   "metadata": {},
   "outputs": [
    {
     "name": "stdout",
     "output_type": "stream",
     "text": [
      "(1.0, 1.0)\n"
     ]
    }
   ],
   "source": [
    "for index, value in enumerate(a.exterior.coords):\n",
    "    if (geom.LineString(b.exterior.coords).contains(geom.Point(value))):\n",
    "        print(a.exterior.coords[index])\n",
    "        \n",
    "        break"
   ]
  }
 ],
 "metadata": {
  "kernelspec": {
   "display_name": "Python 3.9.1 64-bit",
   "language": "python",
   "name": "python3"
  },
  "language_info": {
   "codemirror_mode": {
    "name": "ipython",
    "version": 3
   },
   "file_extension": ".py",
   "mimetype": "text/x-python",
   "name": "python",
   "nbconvert_exporter": "python",
   "pygments_lexer": "ipython3",
   "version": "3.9.1 (tags/v3.9.1:1e5d33e, Dec  7 2020, 17:08:21) [MSC v.1927 64 bit (AMD64)]"
  },
  "orig_nbformat": 4,
  "vscode": {
   "interpreter": {
    "hash": "d8b6ecdcfcc8eabedc26d4652316e88d4bdab3e97967432fb535834cd4f7a4a6"
   }
  }
 },
 "nbformat": 4,
 "nbformat_minor": 2
}
