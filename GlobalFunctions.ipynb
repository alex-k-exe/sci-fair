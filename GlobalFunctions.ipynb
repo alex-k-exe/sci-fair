{
 "cells": [
  {
   "cell_type": "markdown",
   "metadata": {},
   "source": [
    "## Imports"
   ]
  },
  {
   "cell_type": "code",
   "execution_count": 116,
   "metadata": {},
   "outputs": [],
   "source": [
    "import matplotlib.pyplot as plt\n",
    "import matplotlib.axes as ax\n",
    "\n",
    "import shapely.geometry as geom\n",
    "import shapely.affinity as aff\n",
    "\n",
    "import math\n",
    "\n",
    "import collections.abc"
   ]
  },
  {
   "attachments": {},
   "cell_type": "markdown",
   "metadata": {},
   "source": [
    "# Global Functions"
   ]
  },
  {
   "cell_type": "markdown",
   "metadata": {},
   "source": [
    "## Plotting geometries"
   ]
  },
  {
   "cell_type": "code",
   "execution_count": 117,
   "metadata": {
    "tags": [
     "test"
    ]
   },
   "outputs": [],
   "source": [
    "def plotCoords(coords):\n",
    "    x,y = zip(*list(coords))\n",
    "    ax.plot(x,y)\n",
    "\n",
    "def plotPoints(points):\n",
    "    x,y = zip(*list(points))\n",
    "    ax.scatter(x, y)\n",
    "\n",
    "def plotPolys(polys):\n",
    "    for poly in polys:\n",
    "        if not getattr(poly, \"exterior\", None):\n",
    "            print(\"got line?\")\n",
    "\n",
    "        plotCoords(poly.exterior.coords)\n",
    "\n",
    "        for hole in poly.interiors:\n",
    "            plotCoords(hole.coords)"
   ]
  },
  {
   "cell_type": "markdown",
   "metadata": {},
   "source": [
    "## Generating a regular polygon"
   ]
  },
  {
   "cell_type": "code",
   "execution_count": 118,
   "metadata": {
    "tags": []
   },
   "outputs": [],
   "source": [
    "def makePoly(sides, radius):\n",
    "    line = geom.LineString([(0, 0), (0, radius)])\n",
    "    vertices = []\n",
    "\n",
    "    if sides % 2 == 0:\n",
    "        line = aff.rotate(line, -360 / sides)\n",
    "\n",
    "    for i in range(0, sides):\n",
    "        line = geom.LineString(recursiveRound([*line.coords], 4))\n",
    "        vertices.append(line.coords[1])\n",
    "        line = aff.rotate(line, -360 / sides, origin=(0, 0))\n",
    "    return geom.Polygon(vertices)"
   ]
  },
  {
   "cell_type": "markdown",
   "metadata": {},
   "source": [
    "## Recursively rounding every number in an iterable"
   ]
  },
  {
   "cell_type": "code",
   "execution_count": 119,
   "metadata": {},
   "outputs": [],
   "source": [
    "def recursiveRound(iter, digits):\n",
    "    if isinstance(iter, collections.abc.Iterable) == False:\n",
    "        try: # if it is a number, round it\n",
    "            return round(iter, digits)\n",
    "        except:\n",
    "            return iter\n",
    "    else: # assign child objects (iter) to current object\n",
    "        for index, value in enumerate(iter):\n",
    "            recursed = recursiveRound(value, digits)\n",
    "            try: # when iter isn't a tuple\n",
    "                iter[index] = recursed\n",
    "            except(TypeError):\n",
    "                iterCopy = list(iter)\n",
    "                iterCopy[index] = recursed\n",
    "                iter = tuple(iterCopy)\n",
    "        return iter\n",
    "\n",
    "# print(recursiveRound([(0.292, 0.21722014), [(118.2194, 0.10282)]], 2))"
   ]
  },
  {
   "attachments": {},
   "cell_type": "markdown",
   "metadata": {},
   "source": [
    "## Finding the angle between three points"
   ]
  },
  {
   "cell_type": "code",
   "execution_count": 120,
   "metadata": {},
   "outputs": [],
   "source": [
    "def angleFinder(x, y, z):\n",
    "    \"\"\"\n",
    "    a^2 = b^2 + c^2 − 2bccos(A)\n",
    "    \"\"\"\n",
    "    a = math.sqrt((y.y - z.y)**2 + (y.x - z.x)**2)\n",
    "    b = x.distance(z)\n",
    "    c = x.distance(y)\n",
    "\n",
    "    return math.acos((b**2 + c**2 - a**2)/(2*b*c))"
   ]
  },
  {
   "attachments": {},
   "cell_type": "markdown",
   "metadata": {},
   "source": [
    "# Testing"
   ]
  },
  {
   "cell_type": "code",
   "execution_count": 121,
   "metadata": {},
   "outputs": [],
   "source": [
    "a = makePoly(5, 3)\n",
    "b = makePoly(4, 3)\n",
    "\n",
    "b = aff.translate(b, yoff=abs(a.bounds[3]) + abs(b.bounds[1]))"
   ]
  },
  {
   "cell_type": "code",
   "execution_count": 122,
   "metadata": {},
   "outputs": [],
   "source": [
    "for index, value in enumerate(a.exterior.coords):\n",
    "    if (geom.LineString(b.exterior.coords).contains(geom.Point(value))):\n",
    "        angle = angleFinder(geom.Point(value), geom.Point(b.exterior.coords[len(b.exterior.coords) // 2 - 1]), geom.Point(a.exterior.coords[index + 1]))\n",
    "        break\n",
    "\n",
    "b = aff.rotate(b, -angle, origin=value, use_radians=\"true\")"
   ]
  },
  {
   "cell_type": "code",
   "execution_count": 123,
   "metadata": {},
   "outputs": [
    {
     "data": {
      "image/png": "[encoded data removed]",
      "text/plain": [
       "<Figure size 640x480 with 1 Axes>"
      ]
     },
     "metadata": {},
     "output_type": "display_data"
    }
   ],
   "source": [
    "fig, ax = plt.subplots(1, 1)\n",
    "plotPolys([a, b])\n",
    "ax.axes.set_aspect(\"equal\")"
   ]
  }
 ],
 "metadata": {
  "kernelspec": {
   "display_name": "Python 3.9.1 64-bit",
   "language": "python",
   "name": "python3"
  },
  "language_info": {
   "codemirror_mode": {
    "name": "ipython",
    "version": 3
   },
   "file_extension": ".py",
   "mimetype": "text/x-python",
   "name": "python",
   "nbconvert_exporter": "python",
   "pygments_lexer": "ipython3",
   "version": "3.9.1"
  },
  "orig_nbformat": 4,
  "vscode": {
   "interpreter": {
    "hash": "d8b6ecdcfcc8eabedc26d4652316e88d4bdab3e97967432fb535834cd4f7a4a6"
   }
  }
 },
 "nbformat": 4,
 "nbformat_minor": 2
}
