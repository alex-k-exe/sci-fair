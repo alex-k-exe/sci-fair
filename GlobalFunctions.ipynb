{
 "cells": [
  {
   "cell_type": "code",
   "execution_count": 2,
   "metadata": {},
   "outputs": [],
   "source": [
    "import matplotlib.pyplot as plt\n",
    "import shapely.geometry as geom\n",
    "import shapely.affinity as transform"
   ]
  },
  {
   "cell_type": "code",
   "execution_count": 3,
   "metadata": {},
   "outputs": [],
   "source": [
    "def plot_coords(coords):\n",
    "    x,y = zip(*list(coords))\n",
    "    plt.plot(x,y)\n",
    "\n",
    "def plot_points(points):\n",
    "    x,y = zip(*list(points))\n",
    "    plt.scatter(x, y)\n",
    "\n",
    "def plot_polys(polys):\n",
    "    for poly in polys:\n",
    "        if (not getattr(poly, \"exterior\", None)):\n",
    "            print(\"got line?\")\n",
    "\n",
    "        plot_coords(poly.exterior.coords)\n",
    "\n",
    "        for hole in poly.interiors:\n",
    "            plot_coords(hole.coords)\n",
    "\n",
    "# def plot_multi(coords, polys, )"
   ]
  },
  {
   "cell_type": "code",
   "execution_count": 4,
   "metadata": {},
   "outputs": [
    {
     "data": {
      "image/png": "[encoded data removed]",
      "text/plain": [
       "<Figure size 640x480 with 1 Axes>"
      ]
     },
     "metadata": {},
     "output_type": "display_data"
    }
   ],
   "source": [
    "a = geom.Polygon([(5, 6), (4, 7), (2, 6)])\n",
    "b = geom.Polygon([(1, 1), (2, 4), (5, 3), (1, 3)])\n",
    "\n",
    "plot_points([(2, 3), (5, 2)])\n",
    "plt.axis\n",
    "plt.show()"
   ]
  }
 ],
 "metadata": {
  "kernelspec": {
   "display_name": "Python 3.9.1 64-bit",
   "language": "python",
   "name": "python3"
  },
  "language_info": {
   "codemirror_mode": {
    "name": "ipython",
    "version": 3
   },
   "file_extension": ".py",
   "mimetype": "text/x-python",
   "name": "python",
   "nbconvert_exporter": "python",
   "pygments_lexer": "ipython3",
   "version": "3.9.1"
  },
  "orig_nbformat": 4,
  "vscode": {
   "interpreter": {
    "hash": "d8b6ecdcfcc8eabedc26d4652316e88d4bdab3e97967432fb535834cd4f7a4a6"
   }
  }
 },
 "nbformat": 4,
 "nbformat_minor": 2
}
