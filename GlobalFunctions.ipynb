{
 "cells": [
  {
   "cell_type": "markdown",
   "metadata": {},
   "source": [
    "## Imports"
   ]
  },
  {
   "cell_type": "code",
   "execution_count": 143,
   "metadata": {},
   "outputs": [],
   "source": [
    "import matplotlib.pyplot as plt\n",
    "import matplotlib.axes as ax\n",
    "\n",
    "import shapely.geometry as geom\n",
    "import shapely.affinity as aff\n",
    "\n",
    "import math\n",
    "\n",
    "import collections.abc\n",
    "\n",
    "import geopandas as gpd"
   ]
  },
  {
   "attachments": {},
   "cell_type": "markdown",
   "metadata": {},
   "source": [
    "# Global Functions"
   ]
  },
  {
   "cell_type": "markdown",
   "metadata": {},
   "source": [
    "## Plotting geometries"
   ]
  },
  {
   "cell_type": "code",
   "execution_count": 2,
   "metadata": {
    "tags": [
     "test"
    ]
   },
   "outputs": [],
   "source": [
    "def plotCoords(coords):\n",
    "    x,y = zip(*list(coords))\n",
    "    ax.plot(x,y)\n",
    "\n",
    "def plotPoints(points):\n",
    "    x,y = zip(*list(points))\n",
    "    ax.scatter(x, y)\n",
    "\n",
    "def plotPolys(polys):\n",
    "    for poly in polys:\n",
    "        if not getattr(poly, \"exterior\", None):\n",
    "            print(\"got line?\")\n",
    "\n",
    "        plotCoords(poly.exterior.coords)\n",
    "\n",
    "        for hole in poly.interiors:\n",
    "            plotCoords(hole.coords)"
   ]
  },
  {
   "cell_type": "markdown",
   "metadata": {},
   "source": [
    "## Recursively rounding every number in an iterable"
   ]
  },
  {
   "cell_type": "code",
   "execution_count": 4,
   "metadata": {},
   "outputs": [],
   "source": [
    "def recursiveRound(iter, digits):\n",
    "    if isinstance(iter, collections.abc.Iterable) == False:\n",
    "        try: # if it is a number, round it\n",
    "            return round(iter, digits)\n",
    "        except:\n",
    "            return iter\n",
    "    else: # assign child objects (iter) to current object\n",
    "        for index, value in enumerate(iter):\n",
    "            recursed = recursiveRound(value, digits)\n",
    "            try: # when iter isn't a tuple\n",
    "                iter[index] = recursed\n",
    "            except(TypeError):\n",
    "                iterCopy = list(iter)\n",
    "                iterCopy[index] = recursed\n",
    "                iter = tuple(iterCopy)\n",
    "        return iter\n",
    "\n",
    "# print(recursiveRound([(0.292, 0.21722014), [(118.2194, 0.10282)]], 2))"
   ]
  },
  {
   "cell_type": "markdown",
   "metadata": {},
   "source": [
    "## Generating a regular polygon"
   ]
  },
  {
   "cell_type": "code",
   "execution_count": 154,
   "metadata": {
    "tags": []
   },
   "outputs": [],
   "source": [
    "def makePoly(sides, radius):\n",
    "    line = geom.LineString([(0, 0), (0, radius)])\n",
    "    vertices = []\n",
    "\n",
    "    if sides % 2 == 0:\n",
    "        line = aff.rotate(line, -360 / sides)\n",
    "\n",
    "    for i in range(0, sides):\n",
    "        line = geom.LineString(recursiveRound([*line.coords], 4))\n",
    "        vertices.append(line.coords[1])\n",
    "        line = aff.rotate(line, -360 / sides, origin=(0, 0))\n",
    "    return geom.Polygon(vertices)"
   ]
  },
  {
   "attachments": {},
   "cell_type": "markdown",
   "metadata": {},
   "source": [
    "## Finding the angle between three points"
   ]
  },
  {
   "cell_type": "code",
   "execution_count": 155,
   "metadata": {},
   "outputs": [],
   "source": [
    "def angleFinder(x, y, z):\n",
    "    \"\"\"\n",
    "    a^2 = b^2 + c^2 − 2bccos(A)\n",
    "    \"\"\"\n",
    "    a = math.sqrt((y.y - z.y)**2 + (y.x - z.x)**2)\n",
    "    b = x.distance(z)\n",
    "    c = x.distance(y)\n",
    "\n",
    "    return math.acos((b**2 + c**2 - a**2)/(2*b*c))\n",
    "\n",
    "# angleFinder(geom.Point(0, 3), geom.Point(1, 2), geom.Point(3, -1))"
   ]
  },
  {
   "attachments": {},
   "cell_type": "markdown",
   "metadata": {},
   "source": [
    "# Testing"
   ]
  },
  {
   "cell_type": "code",
   "execution_count": 197,
   "metadata": {},
   "outputs": [],
   "source": [
    "a = makePoly(3, 3)\n",
    "b = makePoly(4, 5)\n",
    "\n",
    "b = aff.translate(b, yoff=abs(a.bounds[3]) + abs(b.bounds[1]))"
   ]
  },
  {
   "cell_type": "code",
   "execution_count": 198,
   "metadata": {},
   "outputs": [],
   "source": [
    "rotationPoint = geom.Point(0, a.bounds[3])\n",
    "\n",
    "indexA = len(a.exterior.coords) // 2 - 1\n",
    "nextA = geom.Point(a.exterior.coords[indexA])\n",
    "\n",
    "indexB = len(b.exterior.coords) // 2 - 1\n",
    "nextB = geom.Point(b.exterior.coords[indexB])"
   ]
  },
  {
   "cell_type": "code",
   "execution_count": 199,
   "metadata": {},
   "outputs": [
    {
     "name": "stdout",
     "output_type": "stream",
     "text": [
      "2\n",
      "1\n"
     ]
    },
    {
     "ename": "ZeroDivisionError",
     "evalue": "float division by zero",
     "output_type": "error",
     "traceback": [
      "\u001b[1;31m---------------------------------------------------------------------------\u001b[0m",
      "\u001b[1;31mZeroDivisionError\u001b[0m                         Traceback (most recent call last)",
      "Cell \u001b[1;32mIn [199], line 2\u001b[0m\n\u001b[0;32m      1\u001b[0m \u001b[39mfor\u001b[39;00m i \u001b[39min\u001b[39;00m \u001b[39mrange\u001b[39m(\u001b[39m0\u001b[39m, \u001b[39m6\u001b[39m):\n\u001b[1;32m----> 2\u001b[0m     b \u001b[39m=\u001b[39m aff\u001b[39m.\u001b[39mrotate(b, \u001b[39m-\u001b[39mangleFinder(rotationPoint, nextB, nextA), origin\u001b[39m=\u001b[39mrotationPoint, use_radians\u001b[39m=\u001b[39m\u001b[39m\"\u001b[39m\u001b[39mtrue\u001b[39m\u001b[39m\"\u001b[39m)\n\u001b[0;32m      4\u001b[0m     nextA \u001b[39m=\u001b[39m geom\u001b[39m.\u001b[39mPoint(a\u001b[39m.\u001b[39mexterior\u001b[39m.\u001b[39mcoords[indexA])\n\u001b[0;32m      5\u001b[0m     nextB \u001b[39m=\u001b[39m geom\u001b[39m.\u001b[39mPoint(b\u001b[39m.\u001b[39mexterior\u001b[39m.\u001b[39mcoords[indexB])\n",
      "Cell \u001b[1;32mIn [155], line 9\u001b[0m, in \u001b[0;36mangleFinder\u001b[1;34m(x, y, z)\u001b[0m\n\u001b[0;32m      6\u001b[0m b \u001b[39m=\u001b[39m x\u001b[39m.\u001b[39mdistance(z)\n\u001b[0;32m      7\u001b[0m c \u001b[39m=\u001b[39m x\u001b[39m.\u001b[39mdistance(y)\n\u001b[1;32m----> 9\u001b[0m \u001b[39mreturn\u001b[39;00m math\u001b[39m.\u001b[39macos((b\u001b[39m*\u001b[39;49m\u001b[39m*\u001b[39;49m\u001b[39m2\u001b[39;49m \u001b[39m+\u001b[39;49m c\u001b[39m*\u001b[39;49m\u001b[39m*\u001b[39;49m\u001b[39m2\u001b[39;49m \u001b[39m-\u001b[39;49m a\u001b[39m*\u001b[39;49m\u001b[39m*\u001b[39;49m\u001b[39m2\u001b[39;49m)\u001b[39m/\u001b[39;49m(\u001b[39m2\u001b[39;49m\u001b[39m*\u001b[39;49mb\u001b[39m*\u001b[39;49mc))\n",
      "\u001b[1;31mZeroDivisionError\u001b[0m: float division by zero"
     ]
    }
   ],
   "source": [
    "for i in range(0, 6):\n",
    "    b = aff.rotate(b, -angleFinder(rotationPoint, nextB, nextA), origin=rotationPoint, use_radians=\"true\")\n",
    "\n",
    "    nextA = geom.Point(a.exterior.coords[indexA])\n",
    "    nextB = geom.Point(b.exterior.coords[indexB])\n",
    "\n",
    "    if geom.LineString(b.exterior.coords).distance(nextA) <= 1:\n",
    "        print(1)\n",
    "        # if b is over the edge of a\n",
    "        rotationPoint = nextA\n",
    "        nextA = geom.Point(a.exterior.coords[(indexA + 1) % len(a.exterior.coords)])\n",
    "        nextB = geom.Point(a.exterior.coords[indexB])\n",
    "    else:\n",
    "        print(2)\n",
    "        rotationPoint = nextB\n",
    "        # nextA doesn't change\n",
    "        nextB = geom.Point(b.exterior.coords[(indexB - 1) % len(b.exterior.coords)])"
   ]
  },
  {
   "cell_type": "code",
   "execution_count": null,
   "metadata": {},
   "outputs": [
    {
     "data": {
      "image/png": "[encoded data removed]",
      "text/plain": [
       "<Figure size 640x480 with 1 Axes>"
      ]
     },
     "metadata": {},
     "output_type": "display_data"
    }
   ],
   "source": [
    "fig, ax = plt.subplots(1, 1)\n",
    "plotPolys([a, b])\n",
    "ax.axes.set_aspect(\"equal\")"
   ]
  },
  {
   "attachments": {
    "image.png": {
     "image/png": "[encoded data removed]"
    }
   },
   "cell_type": "markdown",
   "metadata": {},
   "source": [
    "![image.png](attachment:image.png)"
   ]
  }
 ],
 "metadata": {
  "kernelspec": {
   "display_name": "Python 3.9.1 64-bit",
   "language": "python",
   "name": "python3"
  },
  "language_info": {
   "codemirror_mode": {
    "name": "ipython",
    "version": 3
   },
   "file_extension": ".py",
   "mimetype": "text/x-python",
   "name": "python",
   "nbconvert_exporter": "python",
   "pygments_lexer": "ipython3",
   "version": "3.9.1"
  },
  "orig_nbformat": 4,
  "vscode": {
   "interpreter": {
    "hash": "d8b6ecdcfcc8eabedc26d4652316e88d4bdab3e97967432fb535834cd4f7a4a6"
   }
  }
 },
 "nbformat": 4,
 "nbformat_minor": 2
}
